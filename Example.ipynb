{
 "cells": [
  {
   "cell_type": "markdown",
   "id": "6b40ba4a",
   "metadata": {},
   "source": [
    "# Example to showcase SimplePipeline.py\n",
    "\n",
    "This example is mainly taken from Géron's book \"Hands-On Machine Learning\"."
   ]
  },
  {
   "cell_type": "markdown",
   "id": "69787c0b",
   "metadata": {},
   "source": [
    "## Preparing the data"
   ]
  },
  {
   "cell_type": "code",
   "execution_count": 1,
   "id": "8e5e4527",
   "metadata": {},
   "outputs": [
    {
     "name": "stdout",
     "output_type": "stream",
     "text": [
      "Loaded datasets/housing.csv.\n"
     ]
    }
   ],
   "source": [
    "import numpy as np\n",
    "import pandas as pd\n",
    "import SimpleDataPipeline as sdp\n",
    "\n",
    "# load the data\n",
    "DATA_NAME = \"housing\"\n",
    "DATA_DIR = \"datasets/\"\n",
    "DATA_URL = \"https://raw.githack.com/ageron/handson-ml2/master/datasets/housing/housing.tgz\"\n",
    "sdp.fetch_data(DATA_URL, DATA_DIR, DATA_NAME)\n",
    "\n",
    "housing = sdp.load_data_pd(DATA_DIR, DATA_NAME)"
   ]
  },
  {
   "cell_type": "code",
   "execution_count": 2,
   "id": "9484b689",
   "metadata": {},
   "outputs": [],
   "source": [
    "# labels to predict\n",
    "labels = \"median_house_value\"\n",
    "\n",
    "# income categories (bins) for the stratified split\n",
    "housing[\"income_cat\"] = pd.cut(\n",
    "        housing[\"median_income\"],\n",
    "        bins=[0, 1.5, 3.0, 4.5, 6, np.inf],\n",
    "        labels=[1, 2, 3, 4, 5])\n",
    "bins = housing[\"income_cat\"]\n",
    "\n",
    "# rooms per household (attributes 3 and 6) and population per household (attributes 5 and 6) as combined attributes\n",
    "combine_attrs = [(3, 6), (5, 6)]"
   ]
  },
  {
   "cell_type": "code",
   "execution_count": 3,
   "id": "10c78cae",
   "metadata": {},
   "outputs": [],
   "source": [
    "# apply the full transform\n",
    "full_transform = sdp.full_transform(housing, bins, combine_attrs, labels)\n",
    "housing_train = full_transform[\"train set\"]\n",
    "housing_test = full_transform[\"test set\"]\n",
    "housing_labels = full_transform[\"labels\"]"
   ]
  },
  {
   "cell_type": "markdown",
   "id": "db52497c",
   "metadata": {},
   "source": [
    "## Models"
   ]
  },
  {
   "cell_type": "markdown",
   "id": "843732b4",
   "metadata": {},
   "source": [
    "### Linear regression"
   ]
  },
  {
   "cell_type": "code",
   "execution_count": 14,
   "id": "de67d59d",
   "metadata": {},
   "outputs": [],
   "source": [
    "from sklearn.linear_model import LinearRegression\n",
    "\n",
    "lin_reg = LinearRegression()\n",
    "lin_reg.fit(housing_train, housing_labels)\n",
    "housing_lin_reg = lin_reg.predict(housing_train)"
   ]
  },
  {
   "cell_type": "code",
   "execution_count": 16,
   "id": "29d823a1",
   "metadata": {},
   "outputs": [
    {
     "name": "stdout",
     "output_type": "stream",
     "text": [
      "Predictions: [205953.76345265 329000.78210909 205354.4709924   61778.65214117\n",
      " 196715.63348024 157038.31384835 424633.00764971 229897.1852463\n",
      " 141793.65242697   8457.84084357 115624.83190629  90286.16950292\n",
      " 326578.92076062 109412.81970165 127053.8497975  208825.93707017\n",
      " 261641.34506145 107353.7499042  148107.18737095 209193.45222157\n",
      " 224318.00828778 430297.33050436 208029.45498618 155232.35529322\n",
      "  68292.63009611 141179.28877926 278749.62215001 134492.82241501\n",
      " 175090.66960001 261938.71492892 294881.78939993 217540.28953261\n",
      " 154013.85200046 185375.14552144 285488.79493627 318703.70600489\n",
      "  27404.81553615 189858.87506557 138031.69039983 236581.85869456\n",
      " 284642.44401647 250855.61246789 221740.77140586 316663.94168946\n",
      " 200417.32809514 213322.75215062 105103.57533619 274151.24504552\n",
      " 156559.88330397 266998.99511879]\n",
      "Labels: [286600.0, 340600.0, 196900.0, 46300.0, 254500.0, 127900.0, 500001.0, 140200.0, 95000.0, 500001.0, 92100.0, 61500.0, 313000.0, 89000.0, 123900.0, 197400.0, 500001.0, 63300.0, 107000.0, 184200.0, 280900.0, 500001.0, 171300.0, 116600.0, 60800.0, 121100.0, 270700.0, 109900.0, 159600.0, 500001.0, 409100.0, 55000.0, 127500.0, 184400.0, 210500.0, 277300.0, 85000.0, 202100.0, 146600.0, 326600.0, 207300.0, 173900.0, 301700.0, 274800.0, 150800.0, 216700.0, 112000.0, 215400.0, 178700.0, 339300.0]\n"
     ]
    }
   ],
   "source": [
    "# testing the model\n",
    "some_data = housing_train[:50]\n",
    "some_labels = housing_labels[:50]\n",
    "predictions = lin_reg.predict(some_data)\n",
    "print(\"Predictions:\", predictions)\n",
    "print(\"Labels:\", list(some_labels))"
   ]
  },
  {
   "cell_type": "code",
   "execution_count": 17,
   "id": "65f93968",
   "metadata": {},
   "outputs": [
    {
     "data": {
      "image/png": "[encoded data removed]",
      "text/plain": [
       "<Figure size 432x288 with 1 Axes>"
      ]
     },
     "metadata": {},
     "output_type": "display_data"
    }
   ],
   "source": [
    "# plot model against data\n",
    "%matplotlib inline\n",
    "import matplotlib.pyplot as plt\n",
    "\n",
    "X_total_rooms = housing_train[:50, 3]\n",
    "y_test = housing_labels[:50]\n",
    "y_pred = predictions[:50]\n",
    "\n",
    "plt.scatter(X_total_rooms, y_test,  color='black')\n",
    "plt.plot(X_total_rooms, y_pred, color='blue', linewidth=3)\n",
    "\n",
    "plt.xticks(())\n",
    "plt.yticks(())\n",
    "\n",
    "plt.show()"
   ]
  },
  {
   "cell_type": "code",
   "execution_count": 18,
   "id": "e350f896",
   "metadata": {},
   "outputs": [
    {
     "data": {
      "text/plain": [
       "68861.06513863918"
      ]
     },
     "execution_count": 18,
     "metadata": {},
     "output_type": "execute_result"
    }
   ],
   "source": [
    "# evaluate model\n",
    "from sklearn.metrics import mean_squared_error\n",
    "lin_mse = mean_squared_error(housing_labels, housing_lin_reg)\n",
    "lin_rmse = np.sqrt(lin_mse)\n",
    "lin_rmse"
   ]
  },
  {
   "cell_type": "markdown",
   "id": "2f8203ac",
   "metadata": {},
   "source": [
    "### Decision tree regressor"
   ]
  },
  {
   "cell_type": "code",
   "execution_count": 20,
   "id": "3edcabc3",
   "metadata": {},
   "outputs": [
    {
     "data": {
      "text/plain": [
       "DecisionTreeRegressor()"
      ]
     },
     "execution_count": 20,
     "metadata": {},
     "output_type": "execute_result"
    }
   ],
   "source": [
    "from sklearn.tree import DecisionTreeRegressor\n",
    "\n",
    "dtr = DecisionTreeRegressor()\n",
    "dtr.fit(housing_train, housing_labels)"
   ]
  },
  {
   "cell_type": "code",
   "execution_count": 22,
   "id": "eaf3cb63",
   "metadata": {},
   "outputs": [
    {
     "data": {
      "text/plain": [
       "0.0"
      ]
     },
     "execution_count": 22,
     "metadata": {},
     "output_type": "execute_result"
    }
   ],
   "source": [
    "# evaluate the model\n",
    "housing_pred_dtr = dtr.predict(housing_train)\n",
    "tree_mse = mean_squared_error(housing_labels, housing_pred_dtr)\n",
    "tree_rmse = np.sqrt(tree_mse)\n",
    "tree_rmse"
   ]
  },
  {
   "cell_type": "code",
   "execution_count": 24,
   "id": "3d7e0384",
   "metadata": {},
   "outputs": [],
   "source": [
    "# cross validation\n",
    "from sklearn.model_selection import cross_val_score\n",
    "dtr_scores = cross_val_score(dtr, housing_train, housing_labels, scoring = \"neg_mean_squared_error\", cv=10)\n",
    "dtr_rmse_scores = np.sqrt(-dtr_scores)"
   ]
  },
  {
   "cell_type": "code",
   "execution_count": 25,
   "id": "c64c6b72",
   "metadata": {},
   "outputs": [],
   "source": [
    "def display_scores(scores):\n",
    "    print(\"Scores:\", scores)\n",
    "    print(\"Mean:\", scores.mean())\n",
    "    print(\"Standard deviation:\", scores.std())"
   ]
  },
  {
   "cell_type": "code",
   "execution_count": 26,
   "id": "b9ea8744",
   "metadata": {},
   "outputs": [
    {
     "name": "stdout",
     "output_type": "stream",
     "text": [
      "Scores: [70843.18526737 71545.68652246 70089.23182606 69046.03238191\n",
      " 70368.08049415 75109.58075332 72710.84970185 70627.49501614\n",
      " 72706.19739132 71410.88253424]\n",
      "Mean: 71445.72218888247\n",
      "Standard deviation: 1625.3260274208578\n"
     ]
    }
   ],
   "source": [
    "display_scores(dtr_rmse_scores)"
   ]
  },
  {
   "cell_type": "code",
   "execution_count": 28,
   "id": "f7a801c0",
   "metadata": {},
   "outputs": [
    {
     "name": "stdout",
     "output_type": "stream",
     "text": [
      "Scores: [67638.40689238 66548.1260895  68305.38614099 74436.97830833\n",
      " 68027.8194507  71669.7388793  65231.9044515  68158.35986257\n",
      " 72658.04965207 68158.0150069 ]\n",
      "Mean: 69083.2784734247\n",
      "Standard deviation: 2736.956317407235\n"
     ]
    }
   ],
   "source": [
    "lin_scores = cross_val_score(lin_reg, housing_train, housing_labels, scoring = \"neg_mean_squared_error\", cv=10)\n",
    "lin_rmse_scores = np.sqrt(-lin_scores)\n",
    "display_scores(lin_rmse_scores)"
   ]
  },
  {
   "cell_type": "markdown",
   "id": "85e47dc5",
   "metadata": {},
   "source": [
    "### Random forests"
   ]
  },
  {
   "cell_type": "code",
   "execution_count": 29,
   "id": "d8b174a5",
   "metadata": {},
   "outputs": [
    {
     "data": {
      "text/plain": [
       "18884.1923423497"
      ]
     },
     "execution_count": 29,
     "metadata": {},
     "output_type": "execute_result"
    }
   ],
   "source": [
    "from sklearn.ensemble import RandomForestRegressor\n",
    "\n",
    "forest_reg = RandomForestRegressor()\n",
    "forest_reg.fit(housing_train, housing_labels)\n",
    "housing_pred_forest = forest_reg.predict(housing_train)\n",
    "forest_mse = mean_squared_error(housing_labels, housing_pred_forest)\n",
    "forest_rmse = np.sqrt(forest_mse)\n",
    "forest_rmse"
   ]
  },
  {
   "cell_type": "code",
   "execution_count": 31,
   "id": "be1140a4",
   "metadata": {},
   "outputs": [
    {
     "name": "stdout",
     "output_type": "stream",
     "text": [
      "Scores: [49589.86508162 47972.96852873 50832.66899043 52488.27039088\n",
      " 50027.5104856  54443.74081048 49466.69193274 48513.33467859\n",
      " 53324.35572545 51536.48749552]\n",
      "Mean: 50819.58941200562\n",
      "Standard deviation: 2002.4720143624932\n"
     ]
    }
   ],
   "source": [
    "forest_scores = cross_val_score(forest_reg, housing_train, housing_labels, scoring = \"neg_mean_squared_error\", cv=10)\n",
    "forest_rmse_scores = np.sqrt(-forest_scores)\n",
    "display_scores(forest_rmse_scores)"
   ]
  },
  {
   "cell_type": "markdown",
   "id": "cdd0b77d",
   "metadata": {},
   "source": [
    "## Dumping the models"
   ]
  },
  {
   "cell_type": "code",
   "execution_count": null,
   "id": "df197633",
   "metadata": {},
   "outputs": [],
   "source": [
    "import joblib\n",
    "\n",
    "joblib.dump(lin_reg, \"lin_reg.pkl\")\n",
    "joblib.dump(dtr, \"dtr.pkl\")\n",
    "joblib.dump(forest_reg, \"forest_reg.pkl\")"
   ]
  }
 ],
 "metadata": {
  "kernelspec": {
   "display_name": "sci",
   "language": "python",
   "name": "sci"
  },
  "language_info": {
   "codemirror_mode": {
    "name": "ipython",
    "version": 3
   },
   "file_extension": ".py",
   "mimetype": "text/x-python",
   "name": "python",
   "nbconvert_exporter": "python",
   "pygments_lexer": "ipython3",
   "version": "3.9.4"
  }
 },
 "nbformat": 4,
 "nbformat_minor": 5
}
