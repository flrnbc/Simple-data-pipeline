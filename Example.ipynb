{
 "cells": [
  {
   "cell_type": "markdown",
   "id": "6b40ba4a",
   "metadata": {},
   "source": [
    "# Example to showcase SimplePipeline.py\n",
    "\n",
    "This example is mainly taken from Géron's book \"Hands-On Machine Learning\"."
   ]
  },
  {
   "cell_type": "markdown",
   "id": "69787c0b",
   "metadata": {},
   "source": [
    "## Preparing the data"
   ]
  },
  {
   "cell_type": "code",
   "execution_count": 1,
   "id": "8e5e4527",
   "metadata": {},
   "outputs": [
    {
     "name": "stdout",
     "output_type": "stream",
     "text": [
      "File already exists. Continue without download.\n"
     ]
    }
   ],
   "source": [
    "import numpy as np\n",
    "import pandas as pd\n",
    "import SimpleDataPipeline as sdp\n",
    "\n",
    "# load the data\n",
    "FILE_DIR = \"datasets/\"\n",
    "# Note: The url given in Géron's book (2nd edition) did not work for me. But it did with raw.githack.\n",
    "DATA_URL = \"https://raw.githack.com/ageron/handson-ml2/master/datasets/housing/housing.tgz\" \n",
    "try: \n",
    "    sdp.fetch_data(DATA_URL, FILE_DIR)\n",
    "except FileExistsError:\n",
    "    print(\"File already exists. Continue without download.\")\n",
    "finally:\n",
    "     housing = pd.read_csv(FILE_DIR + \"/housing.csv\")"
   ]
  },
  {
   "cell_type": "code",
   "execution_count": 2,
   "id": "9484b689",
   "metadata": {},
   "outputs": [],
   "source": [
    "# to predict\n",
    "to_predict = \"median_house_value\"\n",
    "\n",
    "# income categories (bins) for the stratified split\n",
    "housing[\"income_cat\"] = pd.cut(\n",
    "        housing[\"median_income\"],\n",
    "        bins=[0, 1.5, 3.0, 4.5, 6, np.inf],\n",
    "        labels=[1, 2, 3, 4, 5])\n",
    "bins = housing[\"income_cat\"]\n",
    "\n",
    "# rooms per household (attributes 3 and 6) and population per household (attributes 5 and 6) as combined attributes\n",
    "combine_attrs = [(3, 6), (5, 6)]"
   ]
  },
  {
   "cell_type": "code",
   "execution_count": 3,
   "id": "10c78cae",
   "metadata": {},
   "outputs": [
    {
     "name": "stdout",
     "output_type": "stream",
     "text": [
      "[[-1.15604281  0.77194962  0.74333089 -0.49323393 -0.44543821]\n",
      " [-1.17602483  0.6596948  -1.1653172  -0.90896655 -1.0369278 ]\n",
      " [ 1.18684903 -1.34218285  0.18664186 -0.31365989 -0.15334458]\n",
      " ...\n",
      " [ 1.58648943 -0.72478134 -1.56295222  1.04390119  0.82273495]\n",
      " [ 0.78221312 -0.85106801  0.18664186 -0.30991876 -0.37484891]\n",
      " [-1.43579109  0.99645926  1.85670895  0.22085348  0.36025337]]\n"
     ]
    }
   ],
   "source": [
    "# apply the full transform\n",
    "full_transform = sdp.full_transform(housing, bins, combine_attrs, to_predict)\n",
    "housing_train = full_transform[\"transformed_train_set\"]\n",
    "housing_test = full_transform[\"transformed_test_set\"]\n",
    "housing_train_labels = full_transform[\"train_labels\"]\n",
    "housing_test_labels = full_transform[\"test_labels\"]\n",
    "\n",
    "print(housing_train[:,...,:5])"
   ]
  },
  {
   "cell_type": "markdown",
   "id": "db52497c",
   "metadata": {},
   "source": [
    "## Models"
   ]
  },
  {
   "cell_type": "markdown",
   "id": "843732b4",
   "metadata": {},
   "source": [
    "### Linear regression"
   ]
  },
  {
   "cell_type": "code",
   "execution_count": 4,
   "id": "de67d59d",
   "metadata": {},
   "outputs": [],
   "source": [
    "from sklearn.linear_model import LinearRegression\n",
    "\n",
    "lin_reg = LinearRegression()\n",
    "lin_reg.fit(housing_train, housing_train_labels)\n",
    "housing_lin_reg = lin_reg.predict(housing_train)"
   ]
  },
  {
   "cell_type": "code",
   "execution_count": 5,
   "id": "29d823a1",
   "metadata": {},
   "outputs": [
    {
     "name": "stdout",
     "output_type": "stream",
     "text": [
      "Predictions: [206345.09761431 328718.59887316 205334.76632827  62184.17728036\n",
      " 199182.01160597 156509.94594648 426099.81217869 229319.76675334\n",
      " 142234.91833411   6196.53262038 115490.66331357  88390.34603448\n",
      " 326195.11608688 122388.93520304 126641.04896503 208528.49866802\n",
      " 257583.17034022 107761.5450033  147073.99614334 209948.22688107\n",
      " 224114.52920085 430564.0136255  210254.56824642 155986.60769359\n",
      "  67053.67906417 140701.9761151  277983.70130032 134388.90281238\n",
      " 174279.62047398 262327.96311445 294475.34175118 215950.14142026\n",
      " 152904.97437902 185269.93760017 285343.47429229 317854.12006792\n",
      "  23293.35808591 189695.79133201 139212.94058739 236643.29356576\n",
      " 284040.3782543  252862.83030652 221515.67616827 315985.98340066\n",
      " 200600.52550709 214447.99965145 102798.23908671 273390.73846802\n",
      " 157559.56425407 266808.06606975]\n",
      "Labels: [286600.0, 340600.0, 196900.0, 46300.0, 254500.0, 127900.0, 500001.0, 140200.0, 95000.0, 500001.0, 92100.0, 61500.0, 313000.0, 89000.0, 123900.0, 197400.0, 500001.0, 63300.0, 107000.0, 184200.0, 280900.0, 500001.0, 171300.0, 116600.0, 60800.0, 121100.0, 270700.0, 109900.0, 159600.0, 500001.0, 409100.0, 55000.0, 127500.0, 184400.0, 210500.0, 277300.0, 85000.0, 202100.0, 146600.0, 326600.0, 207300.0, 173900.0, 301700.0, 274800.0, 150800.0, 216700.0, 112000.0, 215400.0, 178700.0, 339300.0]\n"
     ]
    }
   ],
   "source": [
    "# testing the model\n",
    "some_data = housing_train[:50]\n",
    "some_labels = housing_train_labels[:50]\n",
    "predictions = lin_reg.predict(some_data)\n",
    "print(\"Predictions:\", predictions)\n",
    "print(\"Labels:\", list(some_labels))"
   ]
  },
  {
   "cell_type": "code",
   "execution_count": 6,
   "id": "65f93968",
   "metadata": {},
   "outputs": [
    {
     "data": {
      "image/png": "[encoded data removed]",
      "text/plain": [
       "<Figure size 432x288 with 1 Axes>"
      ]
     },
     "metadata": {},
     "output_type": "display_data"
    }
   ],
   "source": [
    "# plot model against data\n",
    "%matplotlib inline\n",
    "import matplotlib.pyplot as plt\n",
    "\n",
    "X_total_rooms = housing_train[:50, 3]\n",
    "y_test = housing_train_labels[:50]\n",
    "y_pred = predictions[:50]\n",
    "\n",
    "plt.scatter(X_total_rooms, y_test,  color='black')\n",
    "plt.plot(X_total_rooms, y_pred, color='blue', linewidth=3)\n",
    "\n",
    "plt.xticks(())\n",
    "plt.yticks(())\n",
    "\n",
    "plt.show()"
   ]
  },
  {
   "cell_type": "code",
   "execution_count": 7,
   "id": "e350f896",
   "metadata": {},
   "outputs": [
    {
     "data": {
      "text/plain": [
       "68740.58504347886"
      ]
     },
     "execution_count": 7,
     "metadata": {},
     "output_type": "execute_result"
    }
   ],
   "source": [
    "# mean squared error on train set\n",
    "from sklearn.metrics import mean_squared_error\n",
    "lin_mse = mean_squared_error(housing_train_labels, housing_lin_reg)\n",
    "lin_rmse = np.sqrt(lin_mse)\n",
    "lin_rmse"
   ]
  },
  {
   "cell_type": "code",
   "execution_count": 19,
   "id": "d1f22ab6",
   "metadata": {},
   "outputs": [
    {
     "data": {
      "text/plain": [
       "67230.65581228938"
      ]
     },
     "execution_count": 19,
     "metadata": {},
     "output_type": "execute_result"
    }
   ],
   "source": [
    "# evaluation on test set\n",
    "test_housing_lin_reg = lin_reg.predict(housing_test)\n",
    "test_lin_mse = mean_squared_error(test_housing_lin_reg, housing_test_labels)\n",
    "test_lin_rmse = np.sqrt(test_mse)\n",
    "test_lin_rmse"
   ]
  },
  {
   "cell_type": "markdown",
   "id": "2f8203ac",
   "metadata": {},
   "source": [
    "### Decision tree regressor"
   ]
  },
  {
   "cell_type": "code",
   "execution_count": 9,
   "id": "3edcabc3",
   "metadata": {},
   "outputs": [
    {
     "data": {
      "text/plain": [
       "DecisionTreeRegressor()"
      ]
     },
     "execution_count": 9,
     "metadata": {},
     "output_type": "execute_result"
    }
   ],
   "source": [
    "from sklearn.tree import DecisionTreeRegressor\n",
    "\n",
    "dtr = DecisionTreeRegressor()\n",
    "dtr.fit(housing_train, housing_train_labels)"
   ]
  },
  {
   "cell_type": "code",
   "execution_count": 10,
   "id": "eaf3cb63",
   "metadata": {},
   "outputs": [
    {
     "data": {
      "text/plain": [
       "0.0"
      ]
     },
     "execution_count": 10,
     "metadata": {},
     "output_type": "execute_result"
    }
   ],
   "source": [
    "# evaluate the model on test data\n",
    "housing_pred_dtr = dtr.predict(housing_train)\n",
    "tree_mse = mean_squared_error(housing_train_labels, housing_pred_dtr)\n",
    "tree_rmse = np.sqrt(tree_mse)\n",
    "tree_rmse"
   ]
  },
  {
   "cell_type": "code",
   "execution_count": 11,
   "id": "d2279eb4",
   "metadata": {},
   "outputs": [
    {
     "data": {
      "text/plain": [
       "70577.5100677776"
      ]
     },
     "execution_count": 11,
     "metadata": {},
     "output_type": "execute_result"
    }
   ],
   "source": [
    "# tree_rmse indicates overfitting; use test set\n",
    "test_housing_pred_dtr = dtr.predict(housing_test)\n",
    "test_tree_rmse = np.sqrt(mean_squared_error(housing_test_labels, test_housing_pred_dtr))\n",
    "test_tree_rmse"
   ]
  },
  {
   "cell_type": "code",
   "execution_count": 12,
   "id": "3d7e0384",
   "metadata": {},
   "outputs": [],
   "source": [
    "# verified large overfitting\n",
    "# try with cross validation\n",
    "from sklearn.model_selection import cross_val_score\n",
    "dtr_scores = cross_val_score(dtr, housing_train, housing_train_labels, scoring = \"neg_mean_squared_error\", cv=10)\n",
    "dtr_rmse_scores = np.sqrt(-dtr_scores)"
   ]
  },
  {
   "cell_type": "code",
   "execution_count": 13,
   "id": "c64c6b72",
   "metadata": {},
   "outputs": [],
   "source": [
    "def display_scores(scores):\n",
    "    print(\"Scores:\", scores)\n",
    "    print(\"Mean:\", scores.mean())\n",
    "    print(\"Standard deviation:\", scores.std())"
   ]
  },
  {
   "cell_type": "code",
   "execution_count": 14,
   "id": "b9ea8744",
   "metadata": {},
   "outputs": [
    {
     "name": "stdout",
     "output_type": "stream",
     "text": [
      "Scores: [71189.64750768 66576.80848921 67526.46916276 70861.18915491\n",
      " 70891.62810738 75315.42672261 72668.5360046  70353.08666601\n",
      " 74189.44288709 69566.91979861]\n",
      "Mean: 70913.91545008591\n",
      "Standard deviation: 2562.705505285876\n"
     ]
    }
   ],
   "source": [
    "display_scores(dtr_rmse_scores)"
   ]
  },
  {
   "cell_type": "code",
   "execution_count": 15,
   "id": "f7a801c0",
   "metadata": {},
   "outputs": [
    {
     "name": "stdout",
     "output_type": "stream",
     "text": [
      "Scores: [67622.96555556 66969.42885518 68038.18106876 74281.81467536\n",
      " 68212.14410669 71596.32752869 65085.64097907 68291.88753841\n",
      " 71978.34158707 68189.19982735]\n",
      "Mean: 69026.59317221328\n",
      "Standard deviation: 2599.0038835250384\n"
     ]
    }
   ],
   "source": [
    "# compare with linear regression\n",
    "lin_scores = cross_val_score(lin_reg, housing_train, housing_train_labels, scoring = \"neg_mean_squared_error\", cv=10)\n",
    "lin_rmse_scores = np.sqrt(-lin_scores)\n",
    "display_scores(lin_rmse_scores)"
   ]
  },
  {
   "cell_type": "markdown",
   "id": "85e47dc5",
   "metadata": {},
   "source": [
    "### Random forests"
   ]
  },
  {
   "cell_type": "code",
   "execution_count": 16,
   "id": "d8b174a5",
   "metadata": {},
   "outputs": [
    {
     "data": {
      "text/plain": [
       "18695.17772989973"
      ]
     },
     "execution_count": 16,
     "metadata": {},
     "output_type": "execute_result"
    }
   ],
   "source": [
    "from sklearn.ensemble import RandomForestRegressor\n",
    "\n",
    "forest_reg = RandomForestRegressor()\n",
    "forest_reg.fit(housing_train, housing_train_labels)\n",
    "housing_pred_forest = forest_reg.predict(housing_train)\n",
    "forest_mse = mean_squared_error(housing_train_labels, housing_pred_forest)\n",
    "forest_rmse = np.sqrt(forest_mse)\n",
    "forest_rmse"
   ]
  },
  {
   "cell_type": "code",
   "execution_count": 17,
   "id": "be1140a4",
   "metadata": {},
   "outputs": [
    {
     "name": "stdout",
     "output_type": "stream",
     "text": [
      "Scores: [49330.92921366 47240.83019633 49799.35924035 51859.86337512\n",
      " 49422.11388711 53368.32476427 48952.7337125  48124.83036581\n",
      " 52996.45345477 50356.10515809]\n",
      "Mean: 50145.15433680167\n",
      "Standard deviation: 1916.9627147492029\n"
     ]
    }
   ],
   "source": [
    "forest_scores = cross_val_score(forest_reg, housing_train, housing_train_labels, scoring = \"neg_mean_squared_error\", cv=10)\n",
    "forest_rmse_scores = np.sqrt(-forest_scores)\n",
    "display_scores(forest_rmse_scores)"
   ]
  },
  {
   "cell_type": "code",
   "execution_count": 25,
   "id": "01575dd9",
   "metadata": {},
   "outputs": [
    {
     "data": {
      "text/plain": [
       "48391.58820088938"
      ]
     },
     "execution_count": 25,
     "metadata": {},
     "output_type": "execute_result"
    }
   ],
   "source": [
    "# finally evaluate on test set\n",
    "test_housing_forest = forest_reg.predict(housing_test)\n",
    "test_forest_mse = mean_squared_error(test_housing_forest, housing_test_labels)\n",
    "test_forest_rmse = np.sqrt(test_forest_mse)\n",
    "test_forest_rmse"
   ]
  },
  {
   "cell_type": "markdown",
   "id": "cdd0b77d",
   "metadata": {},
   "source": [
    "## Optional: dumping the models"
   ]
  },
  {
   "cell_type": "code",
   "execution_count": 18,
   "id": "df197633",
   "metadata": {},
   "outputs": [],
   "source": [
    "#import joblib\n",
    "\n",
    "#joblib.dump(lin_reg, \"lin_reg.pkl\")\n",
    "#joblib.dump(dtr, \"dtr.pkl\")\n",
    "#joblib.dump(forest_reg, \"forest_reg.pkl\")"
   ]
  }
 ],
 "metadata": {
  "kernelspec": {
   "display_name": "sci",
   "language": "python",
   "name": "sci"
  },
  "language_info": {
   "codemirror_mode": {
    "name": "ipython",
    "version": 3
   },
   "file_extension": ".py",
   "mimetype": "text/x-python",
   "name": "python",
   "nbconvert_exporter": "python",
   "pygments_lexer": "ipython3",
   "version": "3.9.4"
  }
 },
 "nbformat": 4,
 "nbformat_minor": 5
}
