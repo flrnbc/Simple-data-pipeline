{
 "cells": [
  {
   "cell_type": "code",
   "execution_count": 1,
   "id": "e297b016",
   "metadata": {},
   "outputs": [
    {
     "name": "stdout",
     "output_type": "stream",
     "text": [
      "Loaded datasets/housing.csv.\n"
     ]
    }
   ],
   "source": [
    "import numpy as np\n",
    "import pandas as pd\n",
    "import SimpleDataPipeline as sdp\n",
    "\n",
    "# load the data\n",
    "DATA_NAME = \"housing\"\n",
    "DATA_DIR = \"datasets/\"\n",
    "DATA_URL = \"https://raw.githack.com/ageron/handson-ml2/master/datasets/housing/housing.tgz\"\n",
    "sdp.fetch_data(DATA_URL, DATA_DIR, DATA_NAME)\n",
    "\n",
    "housing = sdp.load_data_pd(DATA_DIR, DATA_NAME)"
   ]
  },
  {
   "cell_type": "code",
   "execution_count": 2,
   "id": "9a9dd0f9",
   "metadata": {},
   "outputs": [],
   "source": [
    "# split data into train and test set\n",
    "# income categories (bins) for the stratified split\n",
    "bins = pd.cut(\n",
    "        housing[\"median_income\"],\n",
    "        bins=[0, 1.5, 3.0, 4.5, 6, np.inf],\n",
    "        labels=[1, 2, 3, 4, 5])\n",
    "shuffle_split = sdp.shuffle_split_data(housing, bins, ratio=0.2)\n",
    "# only work with train set from now on\n",
    "housing = shuffle_split[0]"
   ]
  },
  {
   "cell_type": "code",
   "execution_count": 4,
   "id": "31e21451",
   "metadata": {},
   "outputs": [],
   "source": [
    "# rooms per household (attributes 3 and 6) and population per household (attributes 5 and 6) \n",
    "# as combined attributes\n",
    "combine_attrs = [(3, 6), (5, 6)]\n",
    "# transform data with the full pipeline\n",
    "housing_tr = sdp.full_pipeline_tr(housing, combine_attrs)"
   ]
  },
  {
   "cell_type": "code",
   "execution_count": null,
   "id": "b0dccf35",
   "metadata": {},
   "outputs": [],
   "source": []
  }
 ],
 "metadata": {
  "kernelspec": {
   "display_name": "sci",
   "language": "python",
   "name": "sci"
  },
  "language_info": {
   "codemirror_mode": {
    "name": "ipython",
    "version": 3
   },
   "file_extension": ".py",
   "mimetype": "text/x-python",
   "name": "python",
   "nbconvert_exporter": "python",
   "pygments_lexer": "ipython3",
   "version": "3.9.4"
  }
 },
 "nbformat": 4,
 "nbformat_minor": 5
}
